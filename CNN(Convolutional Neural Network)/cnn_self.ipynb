{
 "cells": [
  {
   "cell_type": "markdown",
   "metadata": {
    "id": "3DR-eO17geWu"
   },
   "source": [
    "# Convolutional Neural Network"
   ]
  },
  {
   "cell_type": "markdown",
   "metadata": {
    "id": "EMefrVPCg-60"
   },
   "source": [
    "### Importing the libraries"
   ]
  },
  {
   "cell_type": "code",
   "execution_count": 1,
   "metadata": {
    "colab": {
     "base_uri": "https://localhost:8080/"
    },
    "id": "J-ProsgLnzAG",
    "outputId": "3e01dd4b-e383-4223-cd81-18ff471f7f40"
   },
   "outputs": [],
   "source": [
    "import tensorflow as tf"
   ]
  },
  {
   "cell_type": "code",
   "execution_count": 2,
   "metadata": {
    "colab": {
     "base_uri": "https://localhost:8080/",
     "height": 35
    },
    "id": "Pt0oZvlQoHtz",
    "outputId": "a470a263-5b12-47e8-f241-495527d62c31"
   },
   "outputs": [
    {
     "data": {
      "text/plain": [
       "'2.12.0'"
      ]
     },
     "execution_count": 2,
     "metadata": {},
     "output_type": "execute_result"
    }
   ],
   "source": [
    "tf.__version__"
   ]
  },
  {
   "cell_type": "markdown",
   "metadata": {
    "id": "oxQxCBWyoGPE"
   },
   "source": [
    "## Part 1 - Data Preprocessing"
   ]
  },
  {
   "cell_type": "markdown",
   "metadata": {
    "id": "MvE-heJNo3GG"
   },
   "source": [
    "### Preprocessing the Training set"
   ]
  },
  {
   "cell_type": "code",
   "execution_count": 3,
   "metadata": {
    "colab": {
     "base_uri": "https://localhost:8080/"
    },
    "id": "IFG0p67AoVo1",
    "outputId": "74aa0536-68a8-41cf-adea-a96dcc83e9fe"
   },
   "outputs": [
    {
     "name": "stdout",
     "output_type": "stream",
     "text": [
      "Found 8000 files belonging to 2 classes.\n"
     ]
    }
   ],
   "source": [
    "training_set = tf.keras.utils.image_dataset_from_directory(\n",
    "    \"dataset/training_set\",\n",
    "    image_size=(64, 64),\n",
    "    batch_size=32\n",
    ")"
   ]
  },
  {
   "cell_type": "markdown",
   "metadata": {
    "id": "mrCMmGw9pHys"
   },
   "source": [
    "### Preprocessing the Test set"
   ]
  },
  {
   "cell_type": "code",
   "execution_count": 4,
   "metadata": {
    "colab": {
     "base_uri": "https://localhost:8080/"
    },
    "id": "i2eX3TPTsMlP",
    "outputId": "2d10bf9d-c190-4b36-a4e2-8a1f133e40da"
   },
   "outputs": [
    {
     "name": "stdout",
     "output_type": "stream",
     "text": [
      "Found 2000 files belonging to 2 classes.\n"
     ]
    }
   ],
   "source": [
    "test_set = tf.keras.utils.image_dataset_from_directory(\n",
    "    \"dataset/test_set\",\n",
    "    image_size=(64, 64),\n",
    "    batch_size=32\n",
    ")"
   ]
  },
  {
   "cell_type": "markdown",
   "metadata": {
    "id": "af8O4l90gk7B"
   },
   "source": [
    "## Part 2 - Building the CNN"
   ]
  },
  {
   "cell_type": "markdown",
   "metadata": {
    "id": "ces1gXY2lmoX"
   },
   "source": [
    "### Initialising the CNN"
   ]
  },
  {
   "cell_type": "code",
   "execution_count": 14,
   "metadata": {
    "id": "kcojaT96tMPX"
   },
   "outputs": [],
   "source": [
    "cnn = tf.keras.models.Sequential()"
   ]
  },
  {
   "cell_type": "markdown",
   "metadata": {
    "id": "u5YJj_XMl5LF"
   },
   "source": [
    "### Step 1 - Data Augmentation"
   ]
  },
  {
   "cell_type": "code",
   "execution_count": 15,
   "metadata": {},
   "outputs": [],
   "source": [
    "data_augmentation = tf.keras.Sequential(\n",
    "    [\n",
    "        tf.keras.layers.RandomFlip(\"horizontal\", input_shape=(64,64,3)),\n",
    "        tf.keras.layers.RandomRotation(0.1),\n",
    "        tf.keras.layers.RandomZoom(0.1)\n",
    "    ]\n",
    ")\n",
    "\n",
    "cnn.add(data_augmentation)"
   ]
  },
  {
   "cell_type": "markdown",
   "metadata": {
    "id": "u5YJj_XMl5LF"
   },
   "source": [
    "### Step 2 - Rescaling"
   ]
  },
  {
   "cell_type": "code",
   "execution_count": 16,
   "metadata": {
    "id": "lNwxmDGZ4qyj"
   },
   "outputs": [],
   "source": [
    "cnn.add(tf.keras.layers.Rescaling(1./255))"
   ]
  },
  {
   "cell_type": "markdown",
   "metadata": {
    "id": "u5YJj_XMl5LF"
   },
   "source": [
    "### Step 3 - Convolution"
   ]
  },
  {
   "cell_type": "code",
   "execution_count": 17,
   "metadata": {
    "id": "VzKPzMVytank"
   },
   "outputs": [],
   "source": [
    "cnn.add(tf.keras.layers.Conv2D(filters=32, kernel_size=3, activation=\"relu\"))"
   ]
  },
  {
   "cell_type": "markdown",
   "metadata": {
    "id": "tf87FpvxmNOJ"
   },
   "source": [
    "### Step 4 - Pooling"
   ]
  },
  {
   "cell_type": "code",
   "execution_count": 18,
   "metadata": {
    "id": "dg_tcoNEtbWF"
   },
   "outputs": [],
   "source": [
    "cnn.add(tf.keras.layers.MaxPool2D(pool_size=2, strides=2))"
   ]
  },
  {
   "cell_type": "markdown",
   "metadata": {
    "id": "xaTOgD8rm4mU"
   },
   "source": [
    "### Adding a second convolutional layer"
   ]
  },
  {
   "cell_type": "code",
   "execution_count": 19,
   "metadata": {
    "id": "SYKrmz49tb-x"
   },
   "outputs": [],
   "source": [
    "cnn.add(tf.keras.layers.Conv2D(filters=32, kernel_size=3, activation=\"relu\"))\n",
    "cnn.add(tf.keras.layers.MaxPool2D(pool_size=2, strides=2))"
   ]
  },
  {
   "cell_type": "markdown",
   "metadata": {
    "id": "tmiEuvTunKfk"
   },
   "source": [
    "### Step 5 - Dropout"
   ]
  },
  {
   "cell_type": "code",
   "execution_count": 20,
   "metadata": {},
   "outputs": [],
   "source": [
    "cnn.add(tf.keras.layers.Dropout(0.2))"
   ]
  },
  {
   "cell_type": "markdown",
   "metadata": {
    "id": "tmiEuvTunKfk"
   },
   "source": [
    "### Step 6 - Flattening"
   ]
  },
  {
   "cell_type": "code",
   "execution_count": 21,
   "metadata": {
    "id": "timQo0iTtcj_"
   },
   "outputs": [],
   "source": [
    "cnn.add(tf.keras.layers.Flatten())"
   ]
  },
  {
   "cell_type": "markdown",
   "metadata": {
    "id": "dAoSECOm203v"
   },
   "source": [
    "### Step 7 - Full Connection"
   ]
  },
  {
   "cell_type": "code",
   "execution_count": 22,
   "metadata": {
    "id": "MU-WSeg1tdFW"
   },
   "outputs": [],
   "source": [
    "cnn.add(tf.keras.layers.Dense(units=128, activation=\"relu\"))"
   ]
  },
  {
   "cell_type": "markdown",
   "metadata": {
    "id": "yTldFvbX28Na"
   },
   "source": [
    "### Step 8 - Output Layer"
   ]
  },
  {
   "cell_type": "code",
   "execution_count": 23,
   "metadata": {
    "id": "cqytufA6td2b"
   },
   "outputs": [],
   "source": [
    "cnn.add(tf.keras.layers.Dense(units=1, activation=\"sigmoid\"))"
   ]
  },
  {
   "cell_type": "markdown",
   "metadata": {
    "id": "D6XkI90snSDl"
   },
   "source": [
    "## Part 3 - Training the CNN"
   ]
  },
  {
   "cell_type": "markdown",
   "metadata": {
    "id": "vfrFQACEnc6i"
   },
   "source": [
    "### Compiling the CNN"
   ]
  },
  {
   "cell_type": "code",
   "execution_count": 24,
   "metadata": {
    "id": "sbAETv01yE7w"
   },
   "outputs": [],
   "source": [
    "cnn.compile(optimizer=\"adam\", loss=\"binary_crossentropy\", metrics=[\"accuracy\"])"
   ]
  },
  {
   "cell_type": "markdown",
   "metadata": {
    "id": "ehS-v3MIpX2h"
   },
   "source": [
    "### Training the CNN on the Training set and evaluating it on the Test set"
   ]
  },
  {
   "cell_type": "code",
   "execution_count": 25,
   "metadata": {
    "colab": {
     "base_uri": "https://localhost:8080/",
     "height": 363
    },
    "id": "ct7lsnzLyh5J",
    "outputId": "e1c119e2-64ac-4c67-a7af-92a20ab36e48"
   },
   "outputs": [
    {
     "name": "stdout",
     "output_type": "stream",
     "text": [
      "Epoch 1/25\n",
      "250/250 [==============================] - 13s 47ms/step - loss: 0.6752 - accuracy: 0.5847 - val_loss: 0.6309 - val_accuracy: 0.6555\n",
      "Epoch 2/25\n",
      "250/250 [==============================] - 12s 49ms/step - loss: 0.6169 - accuracy: 0.6618 - val_loss: 0.5967 - val_accuracy: 0.6785\n",
      "Epoch 3/25\n",
      "250/250 [==============================] - 11s 44ms/step - loss: 0.5811 - accuracy: 0.6933 - val_loss: 0.5581 - val_accuracy: 0.7220\n",
      "Epoch 4/25\n",
      "250/250 [==============================] - 11s 44ms/step - loss: 0.5620 - accuracy: 0.7082 - val_loss: 0.5372 - val_accuracy: 0.7360\n",
      "Epoch 5/25\n",
      "250/250 [==============================] - 11s 44ms/step - loss: 0.5569 - accuracy: 0.7106 - val_loss: 0.5222 - val_accuracy: 0.7475\n",
      "Epoch 6/25\n",
      "250/250 [==============================] - 11s 44ms/step - loss: 0.5376 - accuracy: 0.7243 - val_loss: 0.5189 - val_accuracy: 0.7320\n",
      "Epoch 7/25\n",
      "250/250 [==============================] - 11s 44ms/step - loss: 0.5224 - accuracy: 0.7412 - val_loss: 0.5376 - val_accuracy: 0.7185\n",
      "Epoch 8/25\n",
      "250/250 [==============================] - 11s 44ms/step - loss: 0.5106 - accuracy: 0.7473 - val_loss: 0.5202 - val_accuracy: 0.7335\n",
      "Epoch 9/25\n",
      "250/250 [==============================] - 11s 44ms/step - loss: 0.5009 - accuracy: 0.7582 - val_loss: 0.5354 - val_accuracy: 0.7460\n",
      "Epoch 10/25\n",
      "250/250 [==============================] - 11s 44ms/step - loss: 0.4933 - accuracy: 0.7638 - val_loss: 0.4751 - val_accuracy: 0.7770\n",
      "Epoch 11/25\n",
      "250/250 [==============================] - 11s 44ms/step - loss: 0.4832 - accuracy: 0.7655 - val_loss: 0.4624 - val_accuracy: 0.7870\n",
      "Epoch 12/25\n",
      "250/250 [==============================] - 11s 44ms/step - loss: 0.4804 - accuracy: 0.7688 - val_loss: 0.4683 - val_accuracy: 0.7750\n",
      "Epoch 13/25\n",
      "250/250 [==============================] - 11s 44ms/step - loss: 0.4712 - accuracy: 0.7735 - val_loss: 0.4675 - val_accuracy: 0.7805\n",
      "Epoch 14/25\n",
      "250/250 [==============================] - 12s 47ms/step - loss: 0.4632 - accuracy: 0.7824 - val_loss: 0.5104 - val_accuracy: 0.7600\n",
      "Epoch 15/25\n",
      "250/250 [==============================] - 12s 46ms/step - loss: 0.4669 - accuracy: 0.7788 - val_loss: 0.5239 - val_accuracy: 0.7490\n",
      "Epoch 16/25\n",
      "250/250 [==============================] - 11s 46ms/step - loss: 0.4550 - accuracy: 0.7868 - val_loss: 0.4623 - val_accuracy: 0.7845\n",
      "Epoch 17/25\n",
      "250/250 [==============================] - 11s 45ms/step - loss: 0.4466 - accuracy: 0.7943 - val_loss: 0.4564 - val_accuracy: 0.7950\n",
      "Epoch 18/25\n",
      "250/250 [==============================] - 11s 45ms/step - loss: 0.4377 - accuracy: 0.7966 - val_loss: 0.4517 - val_accuracy: 0.7840\n",
      "Epoch 19/25\n",
      "250/250 [==============================] - 11s 45ms/step - loss: 0.4319 - accuracy: 0.8000 - val_loss: 0.4592 - val_accuracy: 0.7915\n",
      "Epoch 20/25\n",
      "250/250 [==============================] - 11s 44ms/step - loss: 0.4283 - accuracy: 0.7996 - val_loss: 0.4469 - val_accuracy: 0.7965\n",
      "Epoch 21/25\n",
      "250/250 [==============================] - 11s 44ms/step - loss: 0.4275 - accuracy: 0.7970 - val_loss: 0.4748 - val_accuracy: 0.7775\n",
      "Epoch 22/25\n",
      "250/250 [==============================] - 11s 44ms/step - loss: 0.4153 - accuracy: 0.8058 - val_loss: 0.4616 - val_accuracy: 0.7920\n",
      "Epoch 23/25\n",
      "250/250 [==============================] - 11s 44ms/step - loss: 0.4052 - accuracy: 0.8196 - val_loss: 0.4615 - val_accuracy: 0.7920\n",
      "Epoch 24/25\n",
      "250/250 [==============================] - 11s 45ms/step - loss: 0.4065 - accuracy: 0.8140 - val_loss: 0.4480 - val_accuracy: 0.8035\n",
      "Epoch 25/25\n",
      "250/250 [==============================] - 11s 44ms/step - loss: 0.4026 - accuracy: 0.8108 - val_loss: 0.4584 - val_accuracy: 0.7915\n"
     ]
    }
   ],
   "source": [
    "history = cnn.fit(x=training_set, validation_data=test_set, epochs=25)"
   ]
  },
  {
   "cell_type": "markdown",
   "metadata": {
    "id": "ehS-v3MIpX2h"
   },
   "source": [
    "### Model Accuracy and Loss Visualize"
   ]
  },
  {
   "cell_type": "code",
   "execution_count": 27,
   "metadata": {},
   "outputs": [
    {
     "data": {
      "image/png": "[encoded data removed]",
      "text/plain": [
       "<Figure size 800x800 with 2 Axes>"
      ]
     },
     "metadata": {},
     "output_type": "display_data"
    }
   ],
   "source": [
    "import matplotlib.pyplot as plt\n",
    "\n",
    "acc = history.history['accuracy']\n",
    "val_acc = history.history['val_accuracy']\n",
    "\n",
    "loss = history.history['loss']\n",
    "val_loss = history.history['val_loss']\n",
    "\n",
    "epochs_range = range(25)\n",
    "\n",
    "plt.figure(figsize=(8, 8))\n",
    "plt.subplot(1, 2, 1)\n",
    "plt.plot(epochs_range, acc, label='Training Accuracy')\n",
    "plt.plot(epochs_range, val_acc, label='Validation Accuracy')\n",
    "plt.legend(loc='lower right')\n",
    "plt.title('Training and Validation Accuracy')\n",
    "\n",
    "plt.subplot(1, 2, 2)\n",
    "plt.plot(epochs_range, loss, label='Training Loss')\n",
    "plt.plot(epochs_range, val_loss, label='Validation Loss')\n",
    "plt.legend(loc='upper right')\n",
    "plt.title('Training and Validation Loss')\n",
    "plt.show()"
   ]
  },
  {
   "cell_type": "markdown",
   "metadata": {
    "id": "U3PZasO0006Z"
   },
   "source": [
    "## Part 4 - Making a single prediction"
   ]
  },
  {
   "cell_type": "code",
   "execution_count": 40,
   "metadata": {},
   "outputs": [
    {
     "name": "stdout",
     "output_type": "stream",
     "text": [
      "1/1 [==============================] - 0s 14ms/step\n",
      "Dog, 94%\n"
     ]
    }
   ],
   "source": [
    "test_image = tf.keras.utils.load_img(\"dataset/single_prediction/cat_or_dog_4.jpg\", target_size=(64, 64))\n",
    "image_array = tf.keras.utils.img_to_array(test_image)\n",
    "image_array = tf.expand_dims(image_array, 0)\n",
    "\n",
    "result = cnn.predict(image_array)\n",
    "if result[0][0] > 0.5:\n",
    "    prediction = f\"Dog, {round(result[0][0] * 100)}%\"\n",
    "else:\n",
    "    prediction = f\"Cat, {round((1-result[0][0]) * 100)}%\"\n",
    "\n",
    "print(prediction)"
   ]
  }
 ],
 "metadata": {
  "colab": {
   "provenance": [],
   "toc_visible": true
  },
  "kernelspec": {
   "display_name": "Python 3 (ipykernel)",
   "language": "python",
   "name": "python3"
  },
  "language_info": {
   "codemirror_mode": {
    "name": "ipython",
    "version": 3
   },
   "file_extension": ".py",
   "mimetype": "text/x-python",
   "name": "python",
   "nbconvert_exporter": "python",
   "pygments_lexer": "ipython3",
   "version": "3.10.9"
  }
 },
 "nbformat": 4,
 "nbformat_minor": 1
}
